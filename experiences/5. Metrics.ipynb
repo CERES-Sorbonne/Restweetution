{
 "cells": [
  {
   "cell_type": "code",
   "execution_count": 3,
   "id": "f92825ad",
   "metadata": {},
   "outputs": [],
   "source": [
    "import pandas as pd\n",
    "import os"
   ]
  },
  {
   "cell_type": "code",
   "execution_count": 1,
   "id": "ca0a6cb5",
   "metadata": {},
   "outputs": [],
   "source": [
    "ROOT_FOLDER = r\"/home/tyra/Documents/CERES/resources\"\n",
    "ROOT_FOLDER = r\"C:\\Users\\Orion\\Documents\\Projets\\CERES\\PMA\""
   ]
  },
  {
   "cell_type": "markdown",
   "id": "9a4cb505",
   "metadata": {},
   "source": [
    "### Merge CSVs "
   ]
  },
  {
   "cell_type": "code",
   "execution_count": 4,
   "id": "b748e922",
   "metadata": {},
   "outputs": [
    {
     "name": "stdout",
     "output_type": "stream",
     "text": [
      "C:\\Users\\Orion\\Documents\\Projets\\CERES\\PMA\\PMA_clean1.csv\n",
      "C:\\Users\\Orion\\Documents\\Projets\\CERES\\PMA\\PMA_clean2.csv\n",
      "C:\\Users\\Orion\\Documents\\Projets\\CERES\\PMA\\PMA_clean3.csv\n"
     ]
    }
   ],
   "source": [
    "nb_files = 3\n",
    "li = []\n",
    "for i in range(nb_files):\n",
    "    path = os.path.join(ROOT_FOLDER, f'PMA_clean{i+1}.csv')\n",
    "    print(path)\n",
    "    dftemps = pd.read_csv(path, sep=';', index_col=None, header=0)\n",
    "    li.append(dftemps)\n",
    "df = pd.concat(li)"
   ]
  },
  {
   "cell_type": "code",
   "execution_count": 6,
   "id": "06bd4bb5",
   "metadata": {},
   "outputs": [],
   "source": [
    "df.to_csv(os.path.join(ROOT_FOLDER, 'PMA_full.csv'), sep=\";\")"
   ]
  },
  {
   "cell_type": "markdown",
   "id": "9f6a7867",
   "metadata": {},
   "source": [
    "### Count number of tweets for each user"
   ]
  },
  {
   "cell_type": "code",
   "execution_count": 17,
   "id": "9e0fb79f",
   "metadata": {},
   "outputs": [],
   "source": [
    "df.groupby(['from_user_id', 'from_user_name']).size().reset_index(name='counts').sort_values('counts', ascending=False)[:15].to_csv('top_15.csv')"
   ]
  },
  {
   "cell_type": "markdown",
   "id": "7dfaa94c",
   "metadata": {},
   "source": [
    "### Count number of mentions "
   ]
  },
  {
   "cell_type": "code",
   "execution_count": 8,
   "id": "7f1cc754",
   "metadata": {},
   "outputs": [],
   "source": [
    "import re\n",
    "def count_occurences(df, exp, exp_regex):\n",
    "    def count_mentions(li, res=None):\n",
    "        for el in li:\n",
    "            res[el] = res.get(el, 0) + 1\n",
    "        \n",
    "    def find_mentions(value):\n",
    "        reg = re.compile(exp_regex)\n",
    "        return reg.findall(value)\n",
    "    \n",
    "    contains_mentions = df['text'].str.contains(exp)\n",
    "    df_mentions = df[contains_mentions]\n",
    "    \n",
    "    contains_rt = df_mentions['text'].str.contains(r'RT')\n",
    "    df_mentions_no_rt = df_mentions[~contains_rt]\n",
    "\n",
    "    mentions_list = df_mentions['text'].apply(find_mentions)\n",
    "    mentions_list_no_rt = df_mentions_no_rt['text'].apply(find_mentions)\n",
    "    \n",
    "    dic_mentions = {}\n",
    "    dic_mentions_no_rt = {}\n",
    "    \n",
    "    mentions_list.apply(count_mentions, res=dic_mentions)\n",
    "    mentions_list_no_rt.apply(count_mentions, res=dic_mentions_no_rt)\n",
    "    \n",
    "    final = pd.DataFrame(columns=['username', 'count'])\n",
    "    final['username'] = dic_mentions.keys()\n",
    "    final['count'] = dic_mentions.values()\n",
    "    \n",
    "    final_no_rt = pd.DataFrame(columns=['username', 'count'])\n",
    "    final_no_rt['username'] = dic_mentions_no_rt.keys()\n",
    "    final_no_rt['count'] = dic_mentions_no_rt.values()\n",
    "    \n",
    "    final = final.merge(final_no_rt, on='username')\n",
    "    final = final.rename(columns={'count_x': 'total_count', 'count_y': 'count_without_RT'})\n",
    "    final['pourcentage_vraies_mentions'] = round(final['count_without_RT'] / final['total_count'] * 100, 1)\n",
    "    final.sort_values('total_count', ascending=False)\n",
    "    \n",
    "    return final"
   ]
  },
  {
   "cell_type": "code",
   "execution_count": 9,
   "id": "9d3450fb",
   "metadata": {},
   "outputs": [
    {
     "data": {
      "text/html": [
       "<div>\n",
       "<style scoped>\n",
       "    .dataframe tbody tr th:only-of-type {\n",
       "        vertical-align: middle;\n",
       "    }\n",
       "\n",
       "    .dataframe tbody tr th {\n",
       "        vertical-align: top;\n",
       "    }\n",
       "\n",
       "    .dataframe thead th {\n",
       "        text-align: right;\n",
       "    }\n",
       "</style>\n",
       "<table border=\"1\" class=\"dataframe\">\n",
       "  <thead>\n",
       "    <tr style=\"text-align: right;\">\n",
       "      <th></th>\n",
       "      <th>username</th>\n",
       "      <th>count_with_RT</th>\n",
       "      <th>count_without_RT</th>\n",
       "      <th>pourcentage_vraies_mentions</th>\n",
       "    </tr>\n",
       "  </thead>\n",
       "  <tbody>\n",
       "    <tr>\n",
       "      <th>0</th>\n",
       "      <td>#PMApourToutes</td>\n",
       "      <td>78714</td>\n",
       "      <td>8252</td>\n",
       "      <td>10.5</td>\n",
       "    </tr>\n",
       "    <tr>\n",
       "      <th>1</th>\n",
       "      <td>#PJLbioethique</td>\n",
       "      <td>19037</td>\n",
       "      <td>1611</td>\n",
       "      <td>8.5</td>\n",
       "    </tr>\n",
       "    <tr>\n",
       "      <th>2</th>\n",
       "      <td>#LCI</td>\n",
       "      <td>1355</td>\n",
       "      <td>372</td>\n",
       "      <td>27.5</td>\n",
       "    </tr>\n",
       "    <tr>\n",
       "      <th>3</th>\n",
       "      <td>#PMA</td>\n",
       "      <td>170113</td>\n",
       "      <td>19980</td>\n",
       "      <td>11.7</td>\n",
       "    </tr>\n",
       "    <tr>\n",
       "      <th>4</th>\n",
       "      <td>#PMAsansPere</td>\n",
       "      <td>68015</td>\n",
       "      <td>7351</td>\n",
       "      <td>10.8</td>\n",
       "    </tr>\n",
       "  </tbody>\n",
       "</table>\n",
       "</div>"
      ],
      "text/plain": [
       "         username  count_with_RT  count_without_RT  \\\n",
       "0  #PMApourToutes          78714              8252   \n",
       "1  #PJLbioethique          19037              1611   \n",
       "2            #LCI           1355               372   \n",
       "3            #PMA         170113             19980   \n",
       "4    #PMAsansPere          68015              7351   \n",
       "\n",
       "   pourcentage_vraies_mentions  \n",
       "0                         10.5  \n",
       "1                          8.5  \n",
       "2                         27.5  \n",
       "3                         11.7  \n",
       "4                         10.8  "
      ]
     },
     "execution_count": 9,
     "metadata": {},
     "output_type": "execute_result"
    }
   ],
   "source": [
    "res = count_occurences(df, r'#', r'#\\w+')\n",
    "res.head()"
   ]
  },
  {
   "cell_type": "code",
   "execution_count": 14,
   "id": "52a2003d",
   "metadata": {},
   "outputs": [
    {
     "data": {
      "text/html": [
       "<div>\n",
       "<style scoped>\n",
       "    .dataframe tbody tr th:only-of-type {\n",
       "        vertical-align: middle;\n",
       "    }\n",
       "\n",
       "    .dataframe tbody tr th {\n",
       "        vertical-align: top;\n",
       "    }\n",
       "\n",
       "    .dataframe thead th {\n",
       "        text-align: right;\n",
       "    }\n",
       "</style>\n",
       "<table border=\"1\" class=\"dataframe\">\n",
       "  <thead>\n",
       "    <tr style=\"text-align: right;\">\n",
       "      <th></th>\n",
       "      <th>username</th>\n",
       "      <th>total_count</th>\n",
       "      <th>count_without_RT</th>\n",
       "      <th>pourcentage_hash_tag_sans_rt</th>\n",
       "    </tr>\n",
       "  </thead>\n",
       "  <tbody>\n",
       "    <tr>\n",
       "      <th>0</th>\n",
       "      <td>#PMApourToutes</td>\n",
       "      <td>78714</td>\n",
       "      <td>8252</td>\n",
       "      <td>10.5</td>\n",
       "    </tr>\n",
       "    <tr>\n",
       "      <th>1</th>\n",
       "      <td>#PJLbioethique</td>\n",
       "      <td>19037</td>\n",
       "      <td>1611</td>\n",
       "      <td>8.5</td>\n",
       "    </tr>\n",
       "    <tr>\n",
       "      <th>2</th>\n",
       "      <td>#LCI</td>\n",
       "      <td>1355</td>\n",
       "      <td>372</td>\n",
       "      <td>27.5</td>\n",
       "    </tr>\n",
       "    <tr>\n",
       "      <th>3</th>\n",
       "      <td>#PMA</td>\n",
       "      <td>170113</td>\n",
       "      <td>19980</td>\n",
       "      <td>11.7</td>\n",
       "    </tr>\n",
       "    <tr>\n",
       "      <th>4</th>\n",
       "      <td>#PMAsansPere</td>\n",
       "      <td>68015</td>\n",
       "      <td>7351</td>\n",
       "      <td>10.8</td>\n",
       "    </tr>\n",
       "    <tr>\n",
       "      <th>...</th>\n",
       "      <td>...</td>\n",
       "      <td>...</td>\n",
       "      <td>...</td>\n",
       "      <td>...</td>\n",
       "    </tr>\n",
       "    <tr>\n",
       "      <th>38079</th>\n",
       "      <td>#debonmatin</td>\n",
       "      <td>1</td>\n",
       "      <td>1</td>\n",
       "      <td>100.0</td>\n",
       "    </tr>\n",
       "    <tr>\n",
       "      <th>38080</th>\n",
       "      <td>#equipeautop</td>\n",
       "      <td>1</td>\n",
       "      <td>1</td>\n",
       "      <td>100.0</td>\n",
       "    </tr>\n",
       "    <tr>\n",
       "      <th>38081</th>\n",
       "      <td>#Kitaout</td>\n",
       "      <td>2</td>\n",
       "      <td>1</td>\n",
       "      <td>50.0</td>\n",
       "    </tr>\n",
       "    <tr>\n",
       "      <th>38082</th>\n",
       "      <td>#manifs28août</td>\n",
       "      <td>1</td>\n",
       "      <td>1</td>\n",
       "      <td>100.0</td>\n",
       "    </tr>\n",
       "    <tr>\n",
       "      <th>38083</th>\n",
       "      <td>#EqualMarriage</td>\n",
       "      <td>2</td>\n",
       "      <td>2</td>\n",
       "      <td>100.0</td>\n",
       "    </tr>\n",
       "  </tbody>\n",
       "</table>\n",
       "<p>38084 rows × 4 columns</p>\n",
       "</div>"
      ],
      "text/plain": [
       "             username  total_count  count_without_RT  \\\n",
       "0      #PMApourToutes        78714              8252   \n",
       "1      #PJLbioethique        19037              1611   \n",
       "2                #LCI         1355               372   \n",
       "3                #PMA       170113             19980   \n",
       "4        #PMAsansPere        68015              7351   \n",
       "...               ...          ...               ...   \n",
       "38079     #debonmatin            1                 1   \n",
       "38080    #equipeautop            1                 1   \n",
       "38081        #Kitaout            2                 1   \n",
       "38082   #manifs28août            1                 1   \n",
       "38083  #EqualMarriage            2                 2   \n",
       "\n",
       "       pourcentage_hash_tag_sans_rt  \n",
       "0                              10.5  \n",
       "1                               8.5  \n",
       "2                              27.5  \n",
       "3                              11.7  \n",
       "4                              10.8  \n",
       "...                             ...  \n",
       "38079                         100.0  \n",
       "38080                         100.0  \n",
       "38081                          50.0  \n",
       "38082                         100.0  \n",
       "38083                         100.0  \n",
       "\n",
       "[38084 rows x 4 columns]"
      ]
     },
     "execution_count": 14,
     "metadata": {},
     "output_type": "execute_result"
    }
   ],
   "source": [
    "res = res.rename(columns={'count_with_RT': 'total_count', 'pourcentage_vraies_mentions': 'pourcentage_hashtag_sans_rt'})\n",
    "res"
   ]
  },
  {
   "cell_type": "code",
   "execution_count": 15,
   "id": "2fdef4a9",
   "metadata": {},
   "outputs": [],
   "source": [
    "res.to_csv(os.path.join(ROOT_FOLDER, 'hashtags.csv'), index=False, sep=\";\")"
   ]
  },
  {
   "cell_type": "code",
   "execution_count": 18,
   "id": "64989c3c",
   "metadata": {},
   "outputs": [],
   "source": [
    "contains_mentions = df['text'].str.contains(r'@')\n"
   ]
  },
  {
   "cell_type": "code",
   "execution_count": 20,
   "id": "86a69663",
   "metadata": {},
   "outputs": [],
   "source": [
    "df_mentions = df[contains_mentions]"
   ]
  },
  {
   "cell_type": "code",
   "execution_count": 21,
   "id": "834a8b94",
   "metadata": {},
   "outputs": [],
   "source": [
    "contains_rt = df_mentions['text'].str.contains(r'RT')"
   ]
  },
  {
   "cell_type": "code",
   "execution_count": 23,
   "id": "fbba94a0",
   "metadata": {},
   "outputs": [],
   "source": [
    "df_mentions_no_rt = df_mentions[~contains_rt]"
   ]
  },
  {
   "cell_type": "code",
   "execution_count": 46,
   "id": "ebfb5994",
   "metadata": {},
   "outputs": [],
   "source": [
    "import re\n",
    "def find_mentions(value):\n",
    "    reg = re.compile(r\"@\\w+\")\n",
    "    return reg.findall(value)"
   ]
  },
  {
   "cell_type": "code",
   "execution_count": 78,
   "id": "c8a1e419",
   "metadata": {},
   "outputs": [],
   "source": [
    "dic = {}"
   ]
  },
  {
   "cell_type": "code",
   "execution_count": 79,
   "id": "58e855cd",
   "metadata": {},
   "outputs": [],
   "source": [
    "def count_mentions(li):\n",
    "    for el in li:\n",
    "        dic[el] = dic.get(el, 0) + 1"
   ]
  },
  {
   "cell_type": "code",
   "execution_count": 80,
   "id": "58c2c807",
   "metadata": {},
   "outputs": [],
   "source": [
    "mentions_list = df_mentions['text'].apply(find_mentions)"
   ]
  },
  {
   "cell_type": "code",
   "execution_count": 81,
   "id": "ce7d6db9",
   "metadata": {},
   "outputs": [
    {
     "data": {
      "text/plain": [
       "0         None\n",
       "1         None\n",
       "2         None\n",
       "3         None\n",
       "4         None\n",
       "          ... \n",
       "488504    None\n",
       "488505    None\n",
       "488508    None\n",
       "488511    None\n",
       "488512    None\n",
       "Name: text, Length: 2039698, dtype: object"
      ]
     },
     "execution_count": 81,
     "metadata": {},
     "output_type": "execute_result"
    }
   ],
   "source": [
    "mentions_list.apply(count_mentions)"
   ]
  },
  {
   "cell_type": "code",
   "execution_count": 82,
   "id": "7069930a",
   "metadata": {},
   "outputs": [],
   "source": [
    "final = pd.DataFrame(columns=['username', 'count'])\n",
    "final['username'] = dic.keys()\n",
    "final['count'] = dic.values()"
   ]
  },
  {
   "cell_type": "code",
   "execution_count": 73,
   "id": "8f6fc0e4",
   "metadata": {},
   "outputs": [],
   "source": [
    "df2 = pd.read_csv(os.path.join(ROOT_FOLDER, 'mentions.csv'), sep=\";\")"
   ]
  },
  {
   "cell_type": "code",
   "execution_count": 83,
   "id": "fca989d5",
   "metadata": {},
   "outputs": [
    {
     "data": {
      "text/plain": [
       "104149"
      ]
     },
     "execution_count": 83,
     "metadata": {},
     "output_type": "execute_result"
    }
   ],
   "source": [
    "len(df2[\"count\"])"
   ]
  },
  {
   "cell_type": "code",
   "execution_count": 84,
   "id": "dda35e1a",
   "metadata": {},
   "outputs": [
    {
     "data": {
      "text/plain": [
       "127993"
      ]
     },
     "execution_count": 84,
     "metadata": {},
     "output_type": "execute_result"
    }
   ],
   "source": [
    "len(final['count'])"
   ]
  },
  {
   "cell_type": "code",
   "execution_count": 92,
   "id": "e9c0612b",
   "metadata": {},
   "outputs": [],
   "source": [
    "final = final.merge(df2, on='username')"
   ]
  },
  {
   "cell_type": "code",
   "execution_count": 99,
   "id": "d0a2d45e",
   "metadata": {},
   "outputs": [],
   "source": [
    "final = final.rename(columns={'count_x': 'count_with_RT', 'count_y': 'count_without_RT'})"
   ]
  },
  {
   "cell_type": "code",
   "execution_count": 106,
   "id": "cd43eed2",
   "metadata": {},
   "outputs": [],
   "source": [
    "final['pourcentage_vraies_mentions'] = round(final['count_without_RT'] / final['count_with_RT'] * 100, 1)"
   ]
  },
  {
   "cell_type": "code",
   "execution_count": 108,
   "id": "92ff0cec",
   "metadata": {},
   "outputs": [],
   "source": [
    "final.sort_values('count_with_RT', ascending=False).to_csv(os.path.join(ROOT_FOLDER, 'mentions.csv'), index=False, sep=\";\")"
   ]
  },
  {
   "cell_type": "code",
   "execution_count": 27,
   "id": "9e961b9c",
   "metadata": {},
   "outputs": [],
   "source": [
    "t = s.split('\\n')\n",
    "ss = t[305: 307]"
   ]
  }
 ],
 "metadata": {
  "kernelspec": {
   "display_name": "Python 3 (ipykernel)",
   "language": "python",
   "name": "python3"
  },
  "language_info": {
   "codemirror_mode": {
    "name": "ipython",
    "version": 3
   },
   "file_extension": ".py",
   "mimetype": "text/x-python",
   "name": "python",
   "nbconvert_exporter": "python",
   "pygments_lexer": "ipython3",
   "version": "3.9.5"
  }
 },
 "nbformat": 4,
 "nbformat_minor": 5
}
