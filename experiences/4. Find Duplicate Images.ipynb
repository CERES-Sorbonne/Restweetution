{
 "cells": [
  {
   "cell_type": "code",
   "execution_count": 26,
   "id": "74514e85",
   "metadata": {},
   "outputs": [],
   "source": [
    "from PIL import Image\n",
    "import pandas as pd\n",
    "import imagehash\n",
    "import os\n",
    "from io import BytesIO"
   ]
  },
  {
   "cell_type": "code",
   "execution_count": 4,
   "id": "31c4dac5",
   "metadata": {},
   "outputs": [],
   "source": [
    "IMAGES_FOLDER = r\"C:\\Users\\Orion\\Documents\\Projets\\CERES\\ScrappingTwitter\\resources\""
   ]
  },
  {
   "cell_type": "code",
   "execution_count": 27,
   "id": "c0bf84cf",
   "metadata": {},
   "outputs": [],
   "source": [
    "import requests as rq\n",
    "\n",
    "res = rq.get('https://pbs.twimg.com/media/E_oobiOXMAMdA_C?format=jpg&name=small')"
   ]
  },
  {
   "cell_type": "code",
   "execution_count": 30,
   "id": "33aa28b9",
   "metadata": {},
   "outputs": [
    {
     "data": {
      "text/plain": [
       "'ffe78f8b83838fff'"
      ]
     },
     "execution_count": 30,
     "metadata": {},
     "output_type": "execute_result"
    }
   ],
   "source": [
    "img = Image.open(BytesIO(res.content))\n",
    "\n",
    "str(imagehash.average_hash(img))"
   ]
  },
  {
   "cell_type": "code",
   "execution_count": 12,
   "id": "51d16e3f",
   "metadata": {},
   "outputs": [],
   "source": [
    "df = pd.DataFrame(columns=['image','ahash','phash','dhash','whash','colorhash'])\n",
    "\n",
    "for img in os.listdir(IMAGES_FOLDER):\n",
    "    file = Image.open(os.path.join(IMAGES_FOLDER, img))\n",
    "\n",
    "    data = {\n",
    "        'image': img,\n",
    "        'ahash': imagehash.average_hash(file),\n",
    "        'phash': imagehash.phash(file),\n",
    "        'dhash': imagehash.dhash(file),\n",
    "        'whash': imagehash.whash(file),\n",
    "        'colorhash': imagehash.colorhash(file),   \n",
    "    }\n",
    "    \n",
    "    df = df.append(data, ignore_index=True)"
   ]
  },
  {
   "cell_type": "code",
   "execution_count": 13,
   "id": "98e3c01a",
   "metadata": {},
   "outputs": [
    {
     "data": {
      "text/html": [
       "<div>\n",
       "<style scoped>\n",
       "    .dataframe tbody tr th:only-of-type {\n",
       "        vertical-align: middle;\n",
       "    }\n",
       "\n",
       "    .dataframe tbody tr th {\n",
       "        vertical-align: top;\n",
       "    }\n",
       "\n",
       "    .dataframe thead th {\n",
       "        text-align: right;\n",
       "    }\n",
       "</style>\n",
       "<table border=\"1\" class=\"dataframe\">\n",
       "  <thead>\n",
       "    <tr style=\"text-align: right;\">\n",
       "      <th></th>\n",
       "      <th>image</th>\n",
       "      <th>ahash</th>\n",
       "      <th>phash</th>\n",
       "      <th>dhash</th>\n",
       "      <th>whash</th>\n",
       "      <th>colorhash</th>\n",
       "    </tr>\n",
       "  </thead>\n",
       "  <tbody>\n",
       "    <tr>\n",
       "      <th>0</th>\n",
       "      <td>blurry.PNG</td>\n",
       "      <td>00ff19bd81a1ffff</td>\n",
       "      <td>af4ad42751510f5d</td>\n",
       "      <td>a5256951554f0b36</td>\n",
       "      <td>00d711698181ffff</td>\n",
       "      <td>06200000180</td>\n",
       "    </tr>\n",
       "    <tr>\n",
       "      <th>1</th>\n",
       "      <td>high.png</td>\n",
       "      <td>00ff99bd81a1ffff</td>\n",
       "      <td>bf0ad42751510f5d</td>\n",
       "      <td>e5256971556f0b16</td>\n",
       "      <td>00d791a98181efff</td>\n",
       "      <td>03200000180</td>\n",
       "    </tr>\n",
       "    <tr>\n",
       "      <th>2</th>\n",
       "      <td>medium.jpg</td>\n",
       "      <td>00ff99bd81a1ffff</td>\n",
       "      <td>bf0ad42751510f5d</td>\n",
       "      <td>e5256951556f0b16</td>\n",
       "      <td>00d791a98181efff</td>\n",
       "      <td>03200000180</td>\n",
       "    </tr>\n",
       "    <tr>\n",
       "      <th>3</th>\n",
       "      <td>other.PNG</td>\n",
       "      <td>00ffff9d990100d9</td>\n",
       "      <td>fbd0453b5c1d1345</td>\n",
       "      <td>a4a5313171597333</td>\n",
       "      <td>00ffff9db90100d9</td>\n",
       "      <td>0b2010000c0</td>\n",
       "    </tr>\n",
       "    <tr>\n",
       "      <th>4</th>\n",
       "      <td>small.jpg</td>\n",
       "      <td>00ff99bd81a1ffff</td>\n",
       "      <td>ff0ad42751110f5d</td>\n",
       "      <td>a5256971556f0b16</td>\n",
       "      <td>00d791a98181efff</td>\n",
       "      <td>03200000180</td>\n",
       "    </tr>\n",
       "  </tbody>\n",
       "</table>\n",
       "</div>"
      ],
      "text/plain": [
       "        image             ahash             phash             dhash  \\\n",
       "0  blurry.PNG  00ff19bd81a1ffff  af4ad42751510f5d  a5256951554f0b36   \n",
       "1    high.png  00ff99bd81a1ffff  bf0ad42751510f5d  e5256971556f0b16   \n",
       "2  medium.jpg  00ff99bd81a1ffff  bf0ad42751510f5d  e5256951556f0b16   \n",
       "3   other.PNG  00ffff9d990100d9  fbd0453b5c1d1345  a4a5313171597333   \n",
       "4   small.jpg  00ff99bd81a1ffff  ff0ad42751110f5d  a5256971556f0b16   \n",
       "\n",
       "              whash    colorhash  \n",
       "0  00d711698181ffff  06200000180  \n",
       "1  00d791a98181efff  03200000180  \n",
       "2  00d791a98181efff  03200000180  \n",
       "3  00ffff9db90100d9  0b2010000c0  \n",
       "4  00d791a98181efff  03200000180  "
      ]
     },
     "execution_count": 13,
     "metadata": {},
     "output_type": "execute_result"
    }
   ],
   "source": [
    "df"
   ]
  }
 ],
 "metadata": {
  "kernelspec": {
   "display_name": "Python 3 (ipykernel)",
   "language": "python",
   "name": "python3"
  },
  "language_info": {
   "codemirror_mode": {
    "name": "ipython",
    "version": 3
   },
   "file_extension": ".py",
   "mimetype": "text/x-python",
   "name": "python",
   "nbconvert_exporter": "python",
   "pygments_lexer": "ipython3",
   "version": "3.9.5"
  }
 },
 "nbformat": 4,
 "nbformat_minor": 5
}
