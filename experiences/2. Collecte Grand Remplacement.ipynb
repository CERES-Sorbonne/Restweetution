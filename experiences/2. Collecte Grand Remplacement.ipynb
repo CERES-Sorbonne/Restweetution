{
 "cells": [
  {
   "cell_type": "code",
   "execution_count": 2,
   "metadata": {},
   "outputs": [],
   "source": [
    "import requests\n",
    "import json\n",
    "import os\n",
    "import time\n",
    "\n",
    "from functools import wraps\n",
    "from pathlib import Path\n",
    "from enum import Enum"
   ]
  },
  {
   "cell_type": "markdown",
   "metadata": {},
   "source": [
    "# Config"
   ]
  },
  {
   "cell_type": "code",
   "execution_count": 20,
   "metadata": {},
   "outputs": [],
   "source": [
    "API_ROUTE = \"https://api.twitter.com/2/\"\n",
    "STREAM_ROUTE = \"tweets/search/stream\"\n",
    "RULES_ROUTE = \"tweets/search/stream/rules\"\n",
    "ROOT_FOLDER = r\"/home/tyra/Documents/Collectes\"\n",
    "MAX_SIZE = 1000000\n",
    "TOKEN = \"\"\n",
    "params = {\n",
    "    \"tweet.fields\": \"entities,public_metrics\",\n",
    "    \"expansions\": \"author_id,in_reply_to_user_id,attachments.media_keys\",\n",
    "    \"media.fields\": \"url\",\n",
    "    \"user.fields\": \"id,verified\"\n",
    "}"
   ]
  },
  {
   "cell_type": "markdown",
   "metadata": {},
   "source": [
    "#### Load Token"
   ]
  },
  {
   "cell_type": "code",
   "execution_count": 24,
   "metadata": {},
   "outputs": [],
   "source": [
    "with open(\"/home/tyra/Documents/CERES/credentials.json\", 'r') as f:\n",
    "    TOKEN = f\"Bearer {json.load(f)['token']}\""
   ]
  },
  {
   "cell_type": "code",
   "execution_count": 25,
   "metadata": {},
   "outputs": [],
   "source": [
    "s = requests.Session()\n",
    "s.headers.update({\"Authorization\": TOKEN})"
   ]
  },
  {
   "cell_type": "code",
   "execution_count": 6,
   "metadata": {},
   "outputs": [],
   "source": [
    "class Media(Enum):\n",
    "    PHOTO = 1\n",
    "    VIDEO = 2\n",
    "    GIF = 3\n",
    "    \n",
    "    def __eq__(self, other):\n",
    "        if isinstance(other, str):\n",
    "            return self.name.lower() == other"
   ]
  },
  {
   "cell_type": "code",
   "execution_count": 7,
   "metadata": {},
   "outputs": [],
   "source": [
    "def timeit(f):\n",
    "    @wraps(f)\n",
    "    def wrapper(*args, **kwargs):\n",
    "        t1 = time.time()\n",
    "        res = f(*args, **kwargs)\n",
    "        print(f\"{f.__name__} executed in {time.time() - t1}\")\n",
    "        return res\n",
    "    return wrapper"
   ]
  },
  {
   "cell_type": "code",
   "execution_count": 8,
   "metadata": {},
   "outputs": [
    {
     "ename": "NameError",
     "evalue": "name 'handle_tweet' is not defined",
     "output_type": "error",
     "traceback": [
      "\u001b[0;31m---------------------------------------------------------------------------\u001b[0m",
      "\u001b[0;31mNameError\u001b[0m                                 Traceback (most recent call last)",
      "\u001b[0;32m<ipython-input-8-e181c49d0c07>\u001b[0m in \u001b[0;36m<module>\u001b[0;34m\u001b[0m\n\u001b[1;32m     70\u001b[0m     ]\n\u001b[1;32m     71\u001b[0m }\"\"\"\n\u001b[0;32m---> 72\u001b[0;31m \u001b[0mhandle_tweet\u001b[0m\u001b[0;34m(\u001b[0m\u001b[0mjson\u001b[0m\u001b[0;34m.\u001b[0m\u001b[0mloads\u001b[0m\u001b[0;34m(\u001b[0m\u001b[0mtweet\u001b[0m\u001b[0;34m)\u001b[0m\u001b[0;34m)\u001b[0m\u001b[0;34m\u001b[0m\u001b[0;34m\u001b[0m\u001b[0m\n\u001b[0m",
      "\u001b[0;31mNameError\u001b[0m: name 'handle_tweet' is not defined"
     ]
    }
   ],
   "source": [
    "# test_handle_tweet\n",
    "tweet = \"\"\"\n",
    "{\n",
    "    \"data\": {\n",
    "        \"attachments\": {\n",
    "            \"media_keys\": [\n",
    "                \"3_1437787186561228800\"\n",
    "            ]\n",
    "        },\n",
    "        \"author_id\": \"21313364\",\n",
    "        \"entities\": {\n",
    "            \"urls\": [\n",
    "                {\n",
    "                    \"start\": 129,\n",
    "                    \"end\": 152,\n",
    "                    \"url\": \"https://t.co/1kUyRMrCmS\",\n",
    "                    \"expanded_url\": \"https://www.nouvelobs.com/droits-des-femmes/20210914.OBS48633/il-y-a-un-afflux-considerable-de-demandes-le-gouvernement-veut-reduire-les-delais-d-attente-pour-la-pma-d-un-an-a-six-mois.html?utm_term=Autofeed&utm_medium=Social&utm_source=Twitter#Echobox=1631630086\",\n",
    "                    \"display_url\": \"nouvelobs.com/droits-des-fem…\",\n",
    "                    \"images\": [\n",
    "                        {\n",
    "                            \"url\": \"https://pbs.twimg.com/news_img/1437787191103692800/Wg5T_O5D?format=jpg&name=orig\",\n",
    "                            \"width\": 1024,\n",
    "                            \"height\": 512\n",
    "                        },\n",
    "                        {\n",
    "                            \"url\": \"https://pbs.twimg.com/news_img/1437787191103692800/Wg5T_O5D?format=jpg&name=150x150\",\n",
    "                            \"width\": 150,\n",
    "                            \"height\": 150\n",
    "                        }\n",
    "                    ],\n",
    "                    \"status\": 200,\n",
    "                    \"title\": \"« Il y a un afflux considérable de demandes » : le gouvernement veut réduire les délais d’attente pour la PMA d’un an à six mois\",\n",
    "                    \"description\": \"Le Parlement a voté fin juin la procréation médicalement assistée pour toutes les femmes, qu’elles soient hétérosexuelles, homosexuelles ou monoparentales. Une enveloppe de 8 millions d’euros doit permettre de répondre à l’afflux de demandes.\",\n",
    "                    \"unwound_url\": \"https://www.nouvelobs.com/droits-des-femmes/20210914.OBS48633/il-y-a-un-afflux-considerable-de-demandes-le-gouvernement-veut-reduire-les-delais-d-attente-pour-la-pma-d-un-an-a-six-mois.html?utm_term=Autofeed&utm_medium=Social&utm_source=Twitter#Echobox=1631630086\"\n",
    "                },\n",
    "                {\n",
    "                    \"start\": 153,\n",
    "                    \"end\": 176,\n",
    "                    \"url\": \"https://t.co/1uGLGEP38c\",\n",
    "                    \"expanded_url\": \"https://twitter.com/lobs/status/1437787188868091906/photo/1\",\n",
    "                    \"display_url\": \"pic.twitter.com/1uGLGEP38c\"\n",
    "                }\n",
    "            ]\n",
    "        },\n",
    "        \"id\": \"1437787188868091906\",\n",
    "        \"organic_metrics\": {},\n",
    "        \"text\": \"« Il y a un afflux considérable de demandes » : le gouvernement veut réduire les délais d’attente pour la PMA d’un an à six mois https://t.co/1kUyRMrCmS https://t.co/1uGLGEP38c\"\n",
    "    },\n",
    "    \"includes\": {\n",
    "        \"media\": [\n",
    "            {\n",
    "                \"media_key\": \"3_1437787186561228800\",\n",
    "                \"type\": \"photo\",\n",
    "                \"url\": \"https://pbs.twimg.com/media/E_QL1BWXIAAEEPV.jpg\"\n",
    "            }\n",
    "        ],\n",
    "        \"users\": [\n",
    "            {\n",
    "                \"id\": \"21313364\",\n",
    "                \"name\": \"L'Obs\",\n",
    "                \"username\": \"lobs\"\n",
    "            }\n",
    "        ]\n",
    "    },\n",
    "    \"matching_rules\": [\n",
    "        {\n",
    "            \"id\": 1437707103754506241,\n",
    "            \"tag\": \"PMA\"\n",
    "        }\n",
    "    ]\n",
    "}\"\"\"\n",
    "handle_tweet(json.loads(tweet))\n"
   ]
  },
  {
   "cell_type": "code",
   "execution_count": 11,
   "metadata": {},
   "outputs": [],
   "source": [
    "def handle_media(tweet):\n",
    "    # check if there are some media in the tweet\n",
    "    if not tweet.get('includes', {}).get('media', False):\n",
    "        return\n",
    "    # extract the media\n",
    "    media = tweet['includes']['media']\n",
    "    for medium in media:\n",
    "        if medium['type'] == Media.PHOTO:\n",
    "            handle_photo(**medium)\n",
    "        else:\n",
    "            print(f\"unhandled media type currently: {medium['type']}\")"
   ]
  },
  {
   "cell_type": "code",
   "execution_count": 10,
   "metadata": {},
   "outputs": [],
   "source": [
    "def handle_photo(media_key=None, url=None, **kwargs):\n",
    "    \"\"\"\n",
    "    save a picture to disk\n",
    "    pictures are saves in root_directory/images and unlike tweet are not saved by tags\n",
    "    # TODO: add metadata + sha1 + occurences count\n",
    "    # TODO: split the download part to use it for every media\n",
    "    \"\"\"\n",
    "    if not media_key or not url:\n",
    "        raise ValueError(\"Missing field when trying to save image\")\n",
    "    file_type = url.split('.')[-1]\n",
    "    file_name = f\"{media_key}.{file_type}\"\n",
    "    try:\n",
    "        res = requests.get(url)\n",
    "        print(\"downloading image\")\n",
    "    except requests.RequestException:\n",
    "        raise ValueError(f\"There was an error when downloading the image with following url: {url}, please check your connection or url\")\n",
    "    # save to disk\n",
    "    # TODO: maybe ensure the creation of '/images' elsewhere ? \n",
    "    directory = Path(os.path.join(ROOT_FOLDER, 'images'))\n",
    "    directory.mkdir(parents=True, exist_ok=True)\n",
    "    with open(os.path.join(directory, file_name), 'wb') as f:\n",
    "        f.write(res.content)"
   ]
  },
  {
   "cell_type": "code",
   "execution_count": 9,
   "metadata": {},
   "outputs": [],
   "source": [
    "@timeit\n",
    "def handle_tweet(tweet):\n",
    "    id = tweet['data']['id']\n",
    "    \n",
    "    # filter tags:\n",
    "    tags = list(set([r['tag'] for r in tweet[\"matching_rules\"]]))\n",
    "    \n",
    "    # save media:\n",
    "    handle_media(tweet)\n",
    "    \n",
    "    # save collected tweet in every tag\n",
    "    for tag in tags:\n",
    "        # create directory if not exist\n",
    "        directory = Path(os.path.join(ROOT_FOLDER), tag)\n",
    "        directory.mkdir(parents=True, exist_ok=True)\n",
    "        with open(os.path.join(directory, f\"{id}.json\"), 'w', encoding='utf-8') as f:\n",
    "            json.dump(tweet, f, indent=4, ensure_ascii=False)"
   ]
  },
  {
   "cell_type": "code",
   "execution_count": 12,
   "metadata": {},
   "outputs": [],
   "source": [
    "def get_folder_size(path):\n",
    "    return sum(f.stat().st_size for f in Path(path).glob('**/*') if f.is_file())"
   ]
  },
  {
   "cell_type": "code",
   "execution_count": 13,
   "metadata": {},
   "outputs": [],
   "source": [
    "@timeit\n",
    "def has_free_space():\n",
    "    if get_folder_size(ROOT_FOLDER) < MAX_SIZE:\n",
    "        return True\n",
    "    raise OSError(\"The maxsize of the storage directory has been reached\")"
   ]
  },
  {
   "cell_type": "code",
   "execution_count": 29,
   "metadata": {},
   "outputs": [],
   "source": [
    "def get_rules():\n",
    "    \"\"\"\n",
    "    Allow to get all rules currently active for the collect\n",
    "    \"\"\"\n",
    "    rules = s.get(API_ROUTE + RULES_ROUTE)\n",
    "    return rules.json()"
   ]
  },
  {
   "cell_type": "code",
   "execution_count": 33,
   "metadata": {},
   "outputs": [],
   "source": [
    "def get_tags_from_rules(rules):\n",
    "    return list(set([r['tag'] for r in rules['data']]))"
   ]
  },
  {
   "cell_type": "code",
   "execution_count": 15,
   "metadata": {},
   "outputs": [],
   "source": [
    "def init_storages(folders=[]):\n",
    "    \"\"\"\n",
    "    Ensure folders are properly created at the begining of the collect\n",
    "    \"\"\"\n",
    "    for f in folders:\n",
    "        directory = Path(os.path.join(ROOT_FOLDER, f))\n",
    "        directory.mkdir(parents=True, exist_ok=True)"
   ]
  },
  {
   "cell_type": "code",
   "execution_count": null,
   "metadata": {},
   "outputs": [],
   "source": [
    "def collect():\n",
    "    # first ensure all folders needed are created\n",
    "    init_storages(['users', 'images', 'videos', 'gifs'])\n",
    "    with s.get(url, params=params, stream=True, timeout=5000) as resp:\n",
    "        if resp.status_code != 200:\n",
    "            print(f\"error {resp.status_code}\")\n",
    "            print(resp.content)\n",
    "        for line in resp.iter_lines():\n",
    "            if line and has_free_space():\n",
    "                print(line.decode(\"utf-8\"))\n",
    "                handle_tweet(json.loads(line.decode(\"utf-8\")))\n",
    "            else:\n",
    "                print(\"waiting for new tweets\")"
   ]
  },
  {
   "cell_type": "code",
   "execution_count": null,
   "metadata": {},
   "outputs": [],
   "source": []
  }
 ],
 "metadata": {
  "kernelspec": {
   "display_name": "Python 3",
   "language": "python",
   "name": "python3"
  },
  "language_info": {
   "codemirror_mode": {
    "name": "ipython",
    "version": 3
   },
   "file_extension": ".py",
   "mimetype": "text/x-python",
   "name": "python",
   "nbconvert_exporter": "python",
   "pygments_lexer": "ipython3",
   "version": "3.8.10"
  }
 },
 "nbformat": 4,
 "nbformat_minor": 5
}
