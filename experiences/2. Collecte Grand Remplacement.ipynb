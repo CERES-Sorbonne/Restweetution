{
 "cells": [
  {
   "cell_type": "code",
   "execution_count": 124,
   "id": "01daef89",
   "metadata": {},
   "outputs": [],
   "source": [
    "import requests\n",
    "import json\n",
    "import os\n",
    "import time\n",
    "\n",
    "from functools import wraps\n",
    "from pathlib import Path\n",
    "from enum import Enum"
   ]
  },
  {
   "cell_type": "code",
   "execution_count": 2,
   "id": "99c106ba",
   "metadata": {},
   "outputs": [],
   "source": [
    "bearer = 'Bearer AAAAAAAAAAAAAAAAAAAAAJQ4TQEAAAAAi1uW5CqJ70nIsAQBjocmatM8MkY%3DCuxVktwfJ6nz7ceUh2w3QuIshTlJjWzMOxxbg4nlgZXJnciXyW'"
   ]
  },
  {
   "cell_type": "code",
   "execution_count": 149,
   "id": "390b6063",
   "metadata": {},
   "outputs": [],
   "source": [
    "url = \"https://api.twitter.com/2/tweets/search/stream\"\n",
    "ROOT_FOLDER = r\"C:\\Users\\Orion\\Documents\\OutputTweets\"\n",
    "MAX_SIZE = 500000\n",
    "params = {\n",
    "    \"tweet.fields\": \"entities,public_metrics\",\n",
    "    \"expansions\": \"author_id,in_reply_to_user_id,attachments.media_keys\",\n",
    "    \"media.fields\": \"url\",\n",
    "    \"user.fields\": \"id,verified\"\n",
    "}"
   ]
  },
  {
   "cell_type": "code",
   "execution_count": 151,
   "id": "d966e4ea",
   "metadata": {},
   "outputs": [],
   "source": [
    "s = requests.Session()\n",
    "s.headers.update({\"Authorization\": bearer})"
   ]
  },
  {
   "cell_type": "code",
   "execution_count": 161,
   "id": "04eb2085",
   "metadata": {},
   "outputs": [],
   "source": [
    "class Media(Enum):\n",
    "    PHOTO = 1\n",
    "    VIDEO = 2\n",
    "    GIF = 3\n",
    "    \n",
    "    def __eq__(self, other):\n",
    "        if isinstance(other, str):\n",
    "            return self.name.lower() == other"
   ]
  },
  {
   "cell_type": "code",
   "execution_count": 152,
   "id": "c152265e",
   "metadata": {},
   "outputs": [],
   "source": [
    "def timeit(f):\n",
    "    @wraps(f)\n",
    "    def wrapper(*args, **kwargs):\n",
    "        t1 = time.time()\n",
    "        res = f(*args, **kwargs)\n",
    "        print(f\"{f.__name__} executed in {time.time() - t1}\")\n",
    "        return res\n",
    "    return wrapper"
   ]
  },
  {
   "cell_type": "code",
   "execution_count": 167,
   "id": "4e9a8425",
   "metadata": {},
   "outputs": [
    {
     "name": "stdout",
     "output_type": "stream",
     "text": [
      "handle_tweet executed in 0.2706904411315918\n"
     ]
    }
   ],
   "source": [
    "# test_handle_tweet\n",
    "tweet = \"\"\"\n",
    "{\n",
    "    \"data\": {\n",
    "        \"attachments\": {\n",
    "            \"media_keys\": [\n",
    "                \"3_1437787186561228800\"\n",
    "            ]\n",
    "        },\n",
    "        \"author_id\": \"21313364\",\n",
    "        \"entities\": {\n",
    "            \"urls\": [\n",
    "                {\n",
    "                    \"start\": 129,\n",
    "                    \"end\": 152,\n",
    "                    \"url\": \"https://t.co/1kUyRMrCmS\",\n",
    "                    \"expanded_url\": \"https://www.nouvelobs.com/droits-des-femmes/20210914.OBS48633/il-y-a-un-afflux-considerable-de-demandes-le-gouvernement-veut-reduire-les-delais-d-attente-pour-la-pma-d-un-an-a-six-mois.html?utm_term=Autofeed&utm_medium=Social&utm_source=Twitter#Echobox=1631630086\",\n",
    "                    \"display_url\": \"nouvelobs.com/droits-des-fem…\",\n",
    "                    \"images\": [\n",
    "                        {\n",
    "                            \"url\": \"https://pbs.twimg.com/news_img/1437787191103692800/Wg5T_O5D?format=jpg&name=orig\",\n",
    "                            \"width\": 1024,\n",
    "                            \"height\": 512\n",
    "                        },\n",
    "                        {\n",
    "                            \"url\": \"https://pbs.twimg.com/news_img/1437787191103692800/Wg5T_O5D?format=jpg&name=150x150\",\n",
    "                            \"width\": 150,\n",
    "                            \"height\": 150\n",
    "                        }\n",
    "                    ],\n",
    "                    \"status\": 200,\n",
    "                    \"title\": \"« Il y a un afflux considérable de demandes » : le gouvernement veut réduire les délais d’attente pour la PMA d’un an à six mois\",\n",
    "                    \"description\": \"Le Parlement a voté fin juin la procréation médicalement assistée pour toutes les femmes, qu’elles soient hétérosexuelles, homosexuelles ou monoparentales. Une enveloppe de 8 millions d’euros doit permettre de répondre à l’afflux de demandes.\",\n",
    "                    \"unwound_url\": \"https://www.nouvelobs.com/droits-des-femmes/20210914.OBS48633/il-y-a-un-afflux-considerable-de-demandes-le-gouvernement-veut-reduire-les-delais-d-attente-pour-la-pma-d-un-an-a-six-mois.html?utm_term=Autofeed&utm_medium=Social&utm_source=Twitter#Echobox=1631630086\"\n",
    "                },\n",
    "                {\n",
    "                    \"start\": 153,\n",
    "                    \"end\": 176,\n",
    "                    \"url\": \"https://t.co/1uGLGEP38c\",\n",
    "                    \"expanded_url\": \"https://twitter.com/lobs/status/1437787188868091906/photo/1\",\n",
    "                    \"display_url\": \"pic.twitter.com/1uGLGEP38c\"\n",
    "                }\n",
    "            ]\n",
    "        },\n",
    "        \"id\": \"1437787188868091906\",\n",
    "        \"organic_metrics\": {},\n",
    "        \"text\": \"« Il y a un afflux considérable de demandes » : le gouvernement veut réduire les délais d’attente pour la PMA d’un an à six mois https://t.co/1kUyRMrCmS https://t.co/1uGLGEP38c\"\n",
    "    },\n",
    "    \"includes\": {\n",
    "        \"media\": [\n",
    "            {\n",
    "                \"media_key\": \"3_1437787186561228800\",\n",
    "                \"type\": \"photo\",\n",
    "                \"url\": \"https://pbs.twimg.com/media/E_QL1BWXIAAEEPV.jpg\"\n",
    "            }\n",
    "        ],\n",
    "        \"users\": [\n",
    "            {\n",
    "                \"id\": \"21313364\",\n",
    "                \"name\": \"L'Obs\",\n",
    "                \"username\": \"lobs\"\n",
    "            }\n",
    "        ]\n",
    "    },\n",
    "    \"matching_rules\": [\n",
    "        {\n",
    "            \"id\": 1437707103754506241,\n",
    "            \"tag\": \"PMA\"\n",
    "        }\n",
    "    ]\n",
    "}\"\"\"\n",
    "handle_tweet(json.loads(tweet))\n"
   ]
  },
  {
   "cell_type": "code",
   "execution_count": 166,
   "id": "0144854b",
   "metadata": {},
   "outputs": [],
   "source": [
    "def handle_media(tweet):\n",
    "    # check if there are some media in the tweet\n",
    "    if not tweet.get('includes', {}).get('media', False):\n",
    "        return\n",
    "    # extract the media\n",
    "    media = tweet['includes']['media']\n",
    "    for medium in media:\n",
    "        if medium['type'] == Media.PHOTO:\n",
    "            handle_photo(**medium)\n",
    "        else:\n",
    "            print(f\"unhandled media type currently: {medium['type']}\")"
   ]
  },
  {
   "cell_type": "code",
   "execution_count": 168,
   "id": "78751576",
   "metadata": {},
   "outputs": [],
   "source": [
    "def handle_photo(media_key=None, url=None, **kwargs):\n",
    "    \"\"\"\n",
    "    save a picture to disk\n",
    "    pictures are saves in root_directory/images and unlike tweet are not saved by tags\n",
    "    # TODO: add metadata + sha1 + occurences count\n",
    "    # TODO: split the download part to use it for every media\n",
    "    \"\"\"\n",
    "    if not media_key or not url:\n",
    "        raise ValueError(\"Missing field when trying to save image\")\n",
    "    file_type = url.split('.')[-1]\n",
    "    file_name = f\"{media_key}.{file_type}\"\n",
    "    try:\n",
    "        res = requests.get(url)\n",
    "        print(\"downloading image\")\n",
    "    except requests.RequestException:\n",
    "        raise ValueError(f\"There was an error when downloading the image with following url: {url}, please check your connection or url\")\n",
    "    # save to disk\n",
    "    # TODO: maybe ensure the creation of 'images' elsewhere ? \n",
    "    directory = Path(os.path.join(ROOT_FOLDER, 'images'))\n",
    "    directory.mkdir(parents=True, exist_ok=True)\n",
    "    with open(os.path.join(directory, file_name), 'wb') as f:\n",
    "        f.write(res.content)"
   ]
  },
  {
   "cell_type": "code",
   "execution_count": 155,
   "id": "54b0c20d",
   "metadata": {},
   "outputs": [],
   "source": [
    "@timeit\n",
    "def handle_tweet(tweet):\n",
    "    id = tweet['data']['id']\n",
    "    \n",
    "    # filter tags:\n",
    "    tags = list(set([r['tag'] for r in tweet[\"matching_rules\"]]))\n",
    "    \n",
    "    # save media:\n",
    "    handle_media(tweet)\n",
    "    \n",
    "    # save collected tweet in every tag\n",
    "    for tag in tags:\n",
    "        # create directory if not exist\n",
    "        directory = Path(os.path.join(ROOT_FOLDER), tag)\n",
    "        directory.mkdir(parents=True, exist_ok=True)\n",
    "        with open(os.path.join(directory, f\"{id}.json\"), 'w', encoding='utf-8') as f:\n",
    "            json.dump(tweet, f, indent=4, ensure_ascii=False)"
   ]
  },
  {
   "cell_type": "code",
   "execution_count": 24,
   "id": "f6b92115",
   "metadata": {},
   "outputs": [],
   "source": [
    "def get_folder_size(path):\n",
    "    return sum(f.stat().st_size for f in Path(path).glob('**/*') if f.is_file())"
   ]
  },
  {
   "cell_type": "code",
   "execution_count": 110,
   "id": "4c5a7036",
   "metadata": {},
   "outputs": [],
   "source": [
    "@timeit\n",
    "def has_free_space():\n",
    "    if get_folder_size(ROOT_FOLDER) < MAX_SIZE:\n",
    "        return True\n",
    "    raise OSError(\"The maxsize of the storage directory has been reached\")"
   ]
  },
  {
   "cell_type": "code",
   "execution_count": 169,
   "id": "abae281f",
   "metadata": {},
   "outputs": [
    {
     "name": "stdout",
     "output_type": "stream",
     "text": [
      "has_free_space executed in 0.04297780990600586\n",
      "{\"data\":{\"attachments\":{},\"author_id\":\"1313158124149395456\",\"entities\":{\"mentions\":[{\"start\":3,\"end\":12,\"username\":\"jvivante\",\"id\":\"561109226\"}]},\"id\":\"1437802785806893064\",\"public_metrics\":{\"retweet_count\":30,\"reply_count\":0,\"like_count\":0,\"quote_count\":0},\"text\":\"RT @jvivante: Entre deux inepties historiques, comme affirmer que Pétain a protégé les Juifs de France, Zemmour ne parle de rien d'autre qu…\"},\"includes\":{\"users\":[{\"id\":\"1313158124149395456\",\"name\":\"Sid - Vacciné - #Anti-Extrêmes - #Macron2022\",\"username\":\"Sid96444775\",\"verified\":false},{\"id\":\"561109226\",\"name\":\"Jimmy Vivante\",\"username\":\"jvivante\",\"verified\":false}]},\"matching_rules\":[{\"id\":1437409111315042307,\"tag\":\"GR\"}]}\n",
      "handle_tweet executed in 0.0010006427764892578\n",
      "waiting for new tweets\n",
      "waiting for new tweets\n",
      "has_free_space executed in 0.06453299522399902\n",
      "{\"data\":{\"attachments\":{},\"author_id\":\"824353266406477834\",\"entities\":{\"mentions\":[{\"start\":3,\"end\":12,\"username\":\"jvivante\",\"id\":\"561109226\"}]},\"id\":\"1437802976421220358\",\"public_metrics\":{\"retweet_count\":31,\"reply_count\":0,\"like_count\":0,\"quote_count\":0},\"text\":\"RT @jvivante: Entre deux inepties historiques, comme affirmer que Pétain a protégé les Juifs de France, Zemmour ne parle de rien d'autre qu…\"},\"includes\":{\"users\":[{\"id\":\"824353266406477834\",\"name\":\"m3\",\"username\":\"quataror\",\"verified\":false},{\"id\":\"561109226\",\"name\":\"Jimmy Vivante\",\"username\":\"jvivante\",\"verified\":false}]},\"matching_rules\":[{\"id\":1437409111315042307,\"tag\":\"GR\"}]}\n",
      "handle_tweet executed in 0.0020291805267333984\n",
      "has_free_space executed in 0.06399846076965332\n",
      "{\"data\":{\"attachments\":{\"media_keys\":[\"3_1437755739867602947\"]},\"author_id\":\"1062309299932856320\",\"entities\":{\"mentions\":[{\"start\":3,\"end\":14,\"username\":\"Nice_Matin\",\"id\":\"49923073\"}],\"urls\":[{\"start\":93,\"end\":116,\"url\":\"https://t.co/a8OeAzcWti\",\"expanded_url\":\"https://bit.ly/2XgTV9I\",\"display_url\":\"bit.ly/2XgTV9I\",\"images\":[{\"url\":\"https://pbs.twimg.com/news_img/1437755747077591045/-ss_69qT?format=jpg&name=orig\",\"width\":1024,\"height\":682},{\"url\":\"https://pbs.twimg.com/news_img/1437755747077591045/-ss_69qT?format=jpg&name=150x150\",\"width\":150,\"height\":150}],\"status\":200,\"title\":\"PMA pour toutes: le gouvernement veut réduire de moitié les délais d'attente\",\"description\":\"Le Parlement a voté fin juin la procréation médicalement assistée pour toutes les femmes, qu'elles soient hétérosexuelles, homosexuelles ou monoparentales. Les décrets d'application de la loi sont attendus dans les prochains jours. \\\"Il y a un afflux considérable de demandes dans les centres\\\", a in\",\"unwound_url\":\"https://www.nicematin.com/faits-de-societe/pma-pour-toutes-le-gouvernement-veut-reduire-de-moitie-les-delais-dattente-714260?utm_term=Autofeed&utm_medium=Social&utm_source=Twitter#Echobox=1631622574\"},{\"start\":117,\"end\":140,\"url\":\"https://t.co/Qgdt9O8dWP\",\"expanded_url\":\"https://twitter.com/Nice_Matin/status/1437755741872480256/photo/1\",\"display_url\":\"pic.twitter.com/Qgdt9O8dWP\"}]},\"id\":\"1437802988249272323\",\"public_metrics\":{\"retweet_count\":2,\"reply_count\":0,\"like_count\":0,\"quote_count\":0},\"text\":\"RT @Nice_Matin: PMA pour toutes: le gouvernement veut réduire de moitié les délais d'attente https://t.co/a8OeAzcWti https://t.co/Qgdt9O8dWP\"},\"includes\":{\"media\":[{\"media_key\":\"3_1437755739867602947\",\"type\":\"photo\",\"url\":\"https://pbs.twimg.com/media/E_PvOlSWYAMVDrZ.jpg\"}],\"users\":[{\"id\":\"1062309299932856320\",\"name\":\"domiboop\",\"username\":\"domiboop1\",\"verified\":false},{\"id\":\"49923073\",\"name\":\"Nice-Matin\",\"username\":\"Nice_Matin\",\"verified\":true}]},\"matching_rules\":[{\"id\":1437707103754506241,\"tag\":\"PMA\"}]}\n",
      "downloading image\n",
      "handle_tweet executed in 0.2520017623901367\n",
      "waiting for new tweets\n",
      "waiting for new tweets\n",
      "has_free_space executed in 0.05799984931945801\n",
      "{\"data\":{\"attachments\":{},\"author_id\":\"1387431562589970432\",\"entities\":{\"mentions\":[{\"start\":3,\"end\":18,\"username\":\"GeneralAntiVax\",\"id\":\"1416822326222630917\"}]},\"id\":\"1437803115173105668\",\"public_metrics\":{\"retweet_count\":8,\"reply_count\":0,\"like_count\":0,\"quote_count\":0},\"text\":\"RT @GeneralAntiVax: Rendez-nous la France d’avant! \\n\\nRendez-moi mon pays! \\n\\nRendez à France Éternelle de nos ancêtres!\\n\\nOu est-elle?\\n\\n#Gran…\"},\"includes\":{\"users\":[{\"id\":\"1387431562589970432\",\"name\":\"Chagnon Claude\",\"username\":\"ChagnonClaude3\",\"verified\":false},{\"id\":\"1416822326222630917\",\"name\":\"GeneralAntiPassSanitaire ن ⚜️⚜️🇫🇷🇫🇷🇫🇷🇫🇷\",\"username\":\"GeneralAntiVax\",\"verified\":false}]},\"matching_rules\":[{\"id\":1437697624790999046,\"tag\":\"GR\"}]}\n",
      "handle_tweet executed in 0.000997781753540039\n",
      "waiting for new tweets\n",
      "has_free_space executed in 0.11053085327148438\n",
      "{\"data\":{\"attachments\":{},\"author_id\":\"1383410373529726979\",\"entities\":{\"mentions\":[{\"start\":0,\"end\":9,\"username\":\"jvivante\",\"id\":\"561109226\"}]},\"id\":\"1437803180298063881\",\"in_reply_to_user_id\":\"561109226\",\"public_metrics\":{\"retweet_count\":0,\"reply_count\":0,\"like_count\":0,\"quote_count\":0},\"text\":\"@jvivante S il n avait  pas été  juif pour dire ce qu il dit  la classe mediatico politique l aurait terrassé...Un catho un musulman un autre  qui dit 1/10ème  de ce qu a pu dire zemmour  et c est bannissement  total de la sphère politique et médiatique\"},\"includes\":{\"users\":[{\"id\":\"1383410373529726979\",\"name\":\"Frenchie75\",\"username\":\"Justice7577\",\"verified\":false},{\"id\":\"561109226\",\"name\":\"Jimmy Vivante\",\"username\":\"jvivante\",\"verified\":false}]},\"matching_rules\":[{\"id\":1437409111315042307,\"tag\":\"GR\"}]}\n",
      "handle_tweet executed in 0.011012077331542969\n",
      "has_free_space executed in 0.06100201606750488\n",
      "{\"data\":{\"attachments\":{},\"author_id\":\"222429748\",\"entities\":{\"mentions\":[{\"start\":3,\"end\":12,\"username\":\"jvivante\",\"id\":\"561109226\"}]},\"id\":\"1437803253715062792\",\"public_metrics\":{\"retweet_count\":32,\"reply_count\":0,\"like_count\":0,\"quote_count\":0},\"text\":\"RT @jvivante: Entre deux inepties historiques, comme affirmer que Pétain a protégé les Juifs de France, Zemmour ne parle de rien d'autre qu…\"},\"includes\":{\"users\":[{\"id\":\"222429748\",\"name\":\"Eric Vander Steen\",\"username\":\"Eric_vds\",\"verified\":false},{\"id\":\"561109226\",\"name\":\"Jimmy Vivante\",\"username\":\"jvivante\",\"verified\":false}]},\"matching_rules\":[{\"id\":1437409111315042307,\"tag\":\"GR\"}]}\n",
      "handle_tweet executed in 0.0009989738464355469\n",
      "waiting for new tweets\n",
      "waiting for new tweets\n",
      "waiting for new tweets\n",
      "has_free_space executed in 0.049996376037597656\n",
      "{\"data\":{\"attachments\":{},\"author_id\":\"1408357783171481601\",\"entities\":{\"mentions\":[{\"start\":3,\"end\":18,\"username\":\"GeneralAntiVax\",\"id\":\"1416822326222630917\"}]},\"id\":\"1437803481184849923\",\"public_metrics\":{\"retweet_count\":9,\"reply_count\":0,\"like_count\":0,\"quote_count\":0},\"text\":\"RT @GeneralAntiVax: Rendez-nous la France d’avant! \\n\\nRendez-moi mon pays! \\n\\nRendez à France Éternelle de nos ancêtres!\\n\\nOu est-elle?\\n\\n#Gran…\"},\"includes\":{\"users\":[{\"id\":\"1408357783171481601\",\"name\":\"Jocelyne Marie\",\"username\":\"7jgrosjean7\",\"verified\":false},{\"id\":\"1416822326222630917\",\"name\":\"GeneralAntiPassSanitaire ن ⚜️⚜️🇫🇷🇫🇷🇫🇷🇫🇷\",\"username\":\"GeneralAntiVax\",\"verified\":false}]},\"matching_rules\":[{\"id\":1437697624790999046,\"tag\":\"GR\"}]}\n",
      "handle_tweet executed in 0.0010042190551757812\n",
      "waiting for new tweets\n",
      "waiting for new tweets\n",
      "waiting for new tweets\n",
      "has_free_space executed in 0.14599847793579102\n",
      "{\"data\":{\"attachments\":{},\"author_id\":\"842086579850104834\",\"entities\":{\"mentions\":[{\"start\":0,\"end\":11,\"username\":\"CCpadchanc\",\"id\":\"1170040287105835008\"}]},\"id\":\"1437803764979748870\",\"in_reply_to_user_id\":\"1170040287105835008\",\"public_metrics\":{\"retweet_count\":0,\"reply_count\":0,\"like_count\":0,\"quote_count\":0},\"text\":\"@CCpadchanc La reconnaissance de la personnalité juridique de l'enfant, en fonction de si il est mort née, puis PMA, GPA etc etc etc\"},\"includes\":{\"users\":[{\"id\":\"842086579850104834\",\"name\":\"SkarOz\",\"username\":\"_SkarOz\",\"verified\":false},{\"id\":\"1170040287105835008\",\"name\":\"CCpadchanc (Ou pas)\",\"username\":\"CCpadchanc\",\"verified\":false}]},\"matching_rules\":[{\"id\":1437707103754506241,\"tag\":\"PMA\"}]}\n",
      "handle_tweet executed in 0.0019998550415039062\n",
      "has_free_space executed in 0.5216145515441895\n",
      "{\"data\":{\"attachments\":{},\"author_id\":\"822763271086346240\",\"entities\":{\"mentions\":[{\"start\":3,\"end\":12,\"username\":\"jvivante\",\"id\":\"561109226\"}]},\"id\":\"1437803763713159174\",\"public_metrics\":{\"retweet_count\":33,\"reply_count\":0,\"like_count\":0,\"quote_count\":0},\"text\":\"RT @jvivante: Entre deux inepties historiques, comme affirmer que Pétain a protégé les Juifs de France, Zemmour ne parle de rien d'autre qu…\"},\"includes\":{\"users\":[{\"id\":\"822763271086346240\",\"name\":\"Jean Monnet\",\"username\":\"nordi_dsa\",\"verified\":false},{\"id\":\"561109226\",\"name\":\"Jimmy Vivante\",\"username\":\"jvivante\",\"verified\":false}]},\"matching_rules\":[{\"id\":1437409111315042307,\"tag\":\"GR\"}]}\n",
      "handle_tweet executed in 0.001995563507080078\n",
      "waiting for new tweets\n"
     ]
    },
    {
     "name": "stdout",
     "output_type": "stream",
     "text": [
      "waiting for new tweets\n",
      "has_free_space executed in 0.06199908256530762\n",
      "{\"data\":{\"attachments\":{},\"author_id\":\"1008025140\",\"entities\":{\"mentions\":[{\"start\":3,\"end\":16,\"username\":\"norbertnabet\",\"id\":\"430643563\"}],\"urls\":[{\"start\":117,\"end\":140,\"url\":\"https://t.co/q3G1JcYoa0\",\"expanded_url\":\"https://tetu.com/2021/09/14/info-tetu-olivier-veran-promet-8-millions-deuros-pour-aider-louverture-de-la-pma/\",\"display_url\":\"tetu.com/2021/09/14/inf…\",\"images\":[{\"url\":\"https://pbs.twimg.com/news_img/1437740741829218307/veLZb-uo?format=png&name=orig\",\"width\":1934,\"height\":1062},{\"url\":\"https://pbs.twimg.com/news_img/1437740741829218307/veLZb-uo?format=png&name=150x150\",\"width\":150,\"height\":150}],\"status\":200,\"title\":\"Ouverture de la PMA : Olivier Véran promet 8 millions d'euros pour répondre à l'afflux de demandes - TÊTU\",\"description\":\"INFO TÊTU - Le ministère de la Santé promet 8 millions d'euros pour les nouveaux projets de PMA. Olivier Véran promet un délai d'attente abaissé à six mois.\",\"unwound_url\":\"https://tetu.com/2021/09/14/info-tetu-olivier-veran-promet-8-millions-deuros-pour-aider-louverture-de-la-pma/\"}]},\"id\":\"1437803878607736835\",\"public_metrics\":{\"retweet_count\":3,\"reply_count\":0,\"like_count\":0,\"quote_count\":0},\"text\":\"RT @norbertnabet: Ouverture de la PMA : Olivier Véran promet 8 millions d’euros pour répondre à l’afflux de demandes https://t.co/q3G1JcYoa0\"},\"includes\":{\"users\":[{\"id\":\"1008025140\",\"name\":\"Poli Marie Jo\",\"username\":\"MarieJosphine\",\"verified\":false},{\"id\":\"430643563\",\"name\":\"norbert nabet\",\"username\":\"norbertnabet\",\"verified\":false}]},\"matching_rules\":[{\"id\":1437707103754506241,\"tag\":\"PMA\"}]}\n",
      "handle_tweet executed in 0.006003141403198242\n",
      "waiting for new tweets\n",
      "has_free_space executed in 0.10300374031066895\n",
      "{\"data\":{\"attachments\":{},\"author_id\":\"1410961307344556033\",\"entities\":{\"mentions\":[{\"start\":0,\"end\":15,\"username\":\"RageCultureMag\",\"id\":\"1105427330347028480\"}]},\"id\":\"1437803938171035650\",\"in_reply_to_user_id\":\"1105427330347028480\",\"public_metrics\":{\"retweet_count\":0,\"reply_count\":0,\"like_count\":0,\"quote_count\":0},\"text\":\"@RageCultureMag CQFD.\\nPas de Zemmour, achèvement du grand remplacement, mort définitive du libéralisme. \\nFin de l'Histoire.\"},\"includes\":{\"users\":[{\"id\":\"1410961307344556033\",\"name\":\"Nours\",\"username\":\"GuyGeor58665815\",\"verified\":false},{\"id\":\"1105427330347028480\",\"name\":\"RAGE\",\"username\":\"RageCultureMag\",\"verified\":false}]},\"matching_rules\":[{\"id\":1437409111315042307,\"tag\":\"GR\"}]}\n",
      "handle_tweet executed in 0.0010023117065429688\n",
      "has_free_space executed in 0.0797889232635498\n",
      "{\"data\":{\"attachments\":{\"media_keys\":[\"3_1437803967833124870\"]},\"author_id\":\"1170040287105835008\",\"entities\":{\"mentions\":[{\"start\":0,\"end\":8,\"username\":\"_SkarOz\",\"id\":\"842086579850104834\"}],\"urls\":[{\"start\":29,\"end\":52,\"url\":\"https://t.co/4uXKInJVZW\",\"expanded_url\":\"https://twitter.com/CCpadchanc/status/1437803970471284739/photo/1\",\"display_url\":\"pic.twitter.com/4uXKInJVZW\"}]},\"id\":\"1437803970471284739\",\"in_reply_to_user_id\":\"842086579850104834\",\"public_metrics\":{\"retweet_count\":0,\"reply_count\":0,\"like_count\":0,\"quote_count\":0},\"text\":\"@_SkarOz Ah yes grave joyeux https://t.co/4uXKInJVZW\"},\"includes\":{\"media\":[{\"media_key\":\"3_1437803967833124870\",\"type\":\"photo\",\"url\":\"https://pbs.twimg.com/media/E_QbF0dXMAYZ73i.jpg\"}],\"users\":[{\"id\":\"1170040287105835008\",\"name\":\"CCpadchanc (Ou pas)\",\"username\":\"CCpadchanc\",\"verified\":false},{\"id\":\"842086579850104834\",\"name\":\"SkarOz\",\"username\":\"_SkarOz\",\"verified\":false}]},\"matching_rules\":[{\"id\":1437707103754506241,\"tag\":\"PMA\"}]}\n",
      "downloading image\n",
      "handle_tweet executed in 0.3297245502471924\n",
      "waiting for new tweets\n",
      "waiting for new tweets\n",
      "waiting for new tweets\n",
      "waiting for new tweets\n",
      "has_free_space executed in 0.11000275611877441\n",
      "{\"data\":{\"attachments\":{},\"author_id\":\"1059778551237484546\",\"entities\":{\"mentions\":[{\"start\":3,\"end\":19,\"username\":\"GuyGeor58665815\",\"id\":\"1410961307344556033\"},{\"start\":21,\"end\":36,\"username\":\"RageCultureMag\",\"id\":\"1105427330347028480\"}]},\"id\":\"1437804344099880960\",\"public_metrics\":{\"retweet_count\":1,\"reply_count\":0,\"like_count\":0,\"quote_count\":0},\"text\":\"RT @GuyGeor58665815: @RageCultureMag CQFD.\\nPas de Zemmour, achèvement du grand remplacement, mort définitive du libéralisme. \\nFin de l'Hist…\"},\"includes\":{\"users\":[{\"id\":\"1059778551237484546\",\"name\":\"ze_liberalbot\",\"username\":\"botliberalisme\",\"verified\":false},{\"id\":\"1410961307344556033\",\"name\":\"Nours\",\"username\":\"GuyGeor58665815\",\"verified\":false},{\"id\":\"1105427330347028480\",\"name\":\"RAGE\",\"username\":\"RageCultureMag\",\"verified\":false}]},\"matching_rules\":[{\"id\":1437409111315042307,\"tag\":\"GR\"}]}\n",
      "handle_tweet executed in 0.004994869232177734\n",
      "waiting for new tweets\n",
      "waiting for new tweets\n",
      "waiting for new tweets\n",
      "has_free_space executed in 0.07799935340881348\n",
      "{\"data\":{\"attachments\":{},\"author_id\":\"1285936303658467334\",\"entities\":{\"mentions\":[{\"start\":0,\"end\":11,\"username\":\"DanDrasset\",\"id\":\"1373952673616179202\"},{\"start\":12,\"end\":23,\"username\":\"scrathefox\",\"id\":\"299869039\"}]},\"id\":\"1437804556402970626\",\"in_reply_to_user_id\":\"1373952673616179202\",\"public_metrics\":{\"retweet_count\":0,\"reply_count\":0,\"like_count\":0,\"quote_count\":0},\"text\":\"@DanDrasset @scrathefox \\\"Elle ne gagnera jamais !\\\" Je pense que Zemmour a raison de le dire mais c'est  la rivale rêvée pour Macron on se souvient tous comment il l'a achevée aux dernières élections\"},\"includes\":{\"users\":[{\"id\":\"1285936303658467334\",\"name\":\"Martinus\",\"username\":\"Martinu74491578\",\"verified\":false},{\"id\":\"1373952673616179202\",\"name\":\"Dan Drasset\",\"username\":\"DanDrasset\",\"verified\":false},{\"id\":\"299869039\",\"name\":\"Scrathefox 🇫🇷 ✞I→\",\"username\":\"scrathefox\",\"verified\":false}]},\"matching_rules\":[{\"id\":1437409111315042307,\"tag\":\"GR\"}]}\n",
      "handle_tweet executed in 0.0030031204223632812\n",
      "has_free_space executed in 0.06701397895812988\n",
      "{\"data\":{\"attachments\":{\"media_keys\":[\"3_1437804351695769601\"]},\"author_id\":\"1427966166404845570\",\"entities\":{\"mentions\":[{\"start\":0,\"end\":11,\"username\":\"dickeric76\",\"id\":\"939516885296697345\"}],\"urls\":[{\"start\":131,\"end\":154,\"url\":\"https://t.co/Z6CfUQdIaq\",\"expanded_url\":\"https://twitter.com/GUERINRen2/status/1437804562090446853/photo/1\",\"display_url\":\"pic.twitter.com/Z6CfUQdIaq\"}]},\"id\":\"1437804562090446853\",\"in_reply_to_user_id\":\"939516885296697345\",\"public_metrics\":{\"retweet_count\":0,\"reply_count\":0,\"like_count\":0,\"quote_count\":0},\"text\":\"@dickeric76 Zemmour AU SECOURE la France, n'est plus la France !\\nC'est le grand remplacement islamique que tue notre civilisation. https://t.co/Z6CfUQdIaq\"},\"includes\":{\"media\":[{\"media_key\":\"3_1437804351695769601\",\"type\":\"photo\",\"url\":\"https://pbs.twimg.com/media/E_QbcKdWUAEigDF.jpg\"}],\"users\":[{\"id\":\"1427966166404845570\",\"name\":\"🇷🇺 Рене Герин-🇫🇷 René Guerin ♿ - 🇫🇷 R.N 85\",\"username\":\"GUERINRen2\",\"verified\":false},{\"id\":\"939516885296697345\",\"name\":\"Éric MAUVOISIN Delavaud\",\"username\":\"dickeric76\",\"verified\":false}]},\"matching_rules\":[{\"id\":1437409111315042307,\"tag\":\"GR\"}]}\n",
      "downloading image\n",
      "handle_tweet executed in 0.7299954891204834\n",
      "waiting for new tweets\n",
      "waiting for new tweets\n"
     ]
    },
    {
     "ename": "OSError",
     "evalue": "The maxsize of the storage directory has been reached",
     "output_type": "error",
     "traceback": [
      "\u001b[1;31m---------------------------------------------------------------------------\u001b[0m",
      "\u001b[1;31mOSError\u001b[0m                                   Traceback (most recent call last)",
      "\u001b[1;32m~\\AppData\\Local\\Temp/ipykernel_18300/753724349.py\u001b[0m in \u001b[0;36m<module>\u001b[1;34m\u001b[0m\n\u001b[0;32m      4\u001b[0m         \u001b[0mprint\u001b[0m\u001b[1;33m(\u001b[0m\u001b[0mresp\u001b[0m\u001b[1;33m.\u001b[0m\u001b[0mcontent\u001b[0m\u001b[1;33m)\u001b[0m\u001b[1;33m\u001b[0m\u001b[1;33m\u001b[0m\u001b[0m\n\u001b[0;32m      5\u001b[0m     \u001b[1;32mfor\u001b[0m \u001b[0mline\u001b[0m \u001b[1;32min\u001b[0m \u001b[0mresp\u001b[0m\u001b[1;33m.\u001b[0m\u001b[0miter_lines\u001b[0m\u001b[1;33m(\u001b[0m\u001b[1;33m)\u001b[0m\u001b[1;33m:\u001b[0m\u001b[1;33m\u001b[0m\u001b[1;33m\u001b[0m\u001b[0m\n\u001b[1;32m----> 6\u001b[1;33m         \u001b[1;32mif\u001b[0m \u001b[0mline\u001b[0m \u001b[1;32mand\u001b[0m \u001b[0mhas_free_space\u001b[0m\u001b[1;33m(\u001b[0m\u001b[1;33m)\u001b[0m\u001b[1;33m:\u001b[0m\u001b[1;33m\u001b[0m\u001b[1;33m\u001b[0m\u001b[0m\n\u001b[0m\u001b[0;32m      7\u001b[0m             \u001b[0mprint\u001b[0m\u001b[1;33m(\u001b[0m\u001b[0mline\u001b[0m\u001b[1;33m.\u001b[0m\u001b[0mdecode\u001b[0m\u001b[1;33m(\u001b[0m\u001b[1;34m\"utf-8\"\u001b[0m\u001b[1;33m)\u001b[0m\u001b[1;33m)\u001b[0m\u001b[1;33m\u001b[0m\u001b[1;33m\u001b[0m\u001b[0m\n\u001b[0;32m      8\u001b[0m             \u001b[0mhandle_tweet\u001b[0m\u001b[1;33m(\u001b[0m\u001b[0mjson\u001b[0m\u001b[1;33m.\u001b[0m\u001b[0mloads\u001b[0m\u001b[1;33m(\u001b[0m\u001b[0mline\u001b[0m\u001b[1;33m.\u001b[0m\u001b[0mdecode\u001b[0m\u001b[1;33m(\u001b[0m\u001b[1;34m\"utf-8\"\u001b[0m\u001b[1;33m)\u001b[0m\u001b[1;33m)\u001b[0m\u001b[1;33m)\u001b[0m\u001b[1;33m\u001b[0m\u001b[1;33m\u001b[0m\u001b[0m\n",
      "\u001b[1;32m~\\AppData\\Local\\Temp/ipykernel_18300/2182505572.py\u001b[0m in \u001b[0;36mwrapper\u001b[1;34m(*args, **kwargs)\u001b[0m\n\u001b[0;32m      3\u001b[0m     \u001b[1;32mdef\u001b[0m \u001b[0mwrapper\u001b[0m\u001b[1;33m(\u001b[0m\u001b[1;33m*\u001b[0m\u001b[0margs\u001b[0m\u001b[1;33m,\u001b[0m \u001b[1;33m**\u001b[0m\u001b[0mkwargs\u001b[0m\u001b[1;33m)\u001b[0m\u001b[1;33m:\u001b[0m\u001b[1;33m\u001b[0m\u001b[1;33m\u001b[0m\u001b[0m\n\u001b[0;32m      4\u001b[0m         \u001b[0mt1\u001b[0m \u001b[1;33m=\u001b[0m \u001b[0mtime\u001b[0m\u001b[1;33m.\u001b[0m\u001b[0mtime\u001b[0m\u001b[1;33m(\u001b[0m\u001b[1;33m)\u001b[0m\u001b[1;33m\u001b[0m\u001b[1;33m\u001b[0m\u001b[0m\n\u001b[1;32m----> 5\u001b[1;33m         \u001b[0mres\u001b[0m \u001b[1;33m=\u001b[0m \u001b[0mf\u001b[0m\u001b[1;33m(\u001b[0m\u001b[1;33m*\u001b[0m\u001b[0margs\u001b[0m\u001b[1;33m,\u001b[0m \u001b[1;33m**\u001b[0m\u001b[0mkwargs\u001b[0m\u001b[1;33m)\u001b[0m\u001b[1;33m\u001b[0m\u001b[1;33m\u001b[0m\u001b[0m\n\u001b[0m\u001b[0;32m      6\u001b[0m         \u001b[0mprint\u001b[0m\u001b[1;33m(\u001b[0m\u001b[1;34mf\"{f.__name__} executed in {time.time() - t1}\"\u001b[0m\u001b[1;33m)\u001b[0m\u001b[1;33m\u001b[0m\u001b[1;33m\u001b[0m\u001b[0m\n\u001b[0;32m      7\u001b[0m         \u001b[1;32mreturn\u001b[0m \u001b[0mres\u001b[0m\u001b[1;33m\u001b[0m\u001b[1;33m\u001b[0m\u001b[0m\n",
      "\u001b[1;32m~\\AppData\\Local\\Temp/ipykernel_18300/3545343834.py\u001b[0m in \u001b[0;36mhas_free_space\u001b[1;34m()\u001b[0m\n\u001b[0;32m      3\u001b[0m     \u001b[1;32mif\u001b[0m \u001b[0mget_folder_size\u001b[0m\u001b[1;33m(\u001b[0m\u001b[0mROOT_FOLDER\u001b[0m\u001b[1;33m)\u001b[0m \u001b[1;33m<\u001b[0m \u001b[0mMAX_SIZE\u001b[0m\u001b[1;33m:\u001b[0m\u001b[1;33m\u001b[0m\u001b[1;33m\u001b[0m\u001b[0m\n\u001b[0;32m      4\u001b[0m         \u001b[1;32mreturn\u001b[0m \u001b[1;32mTrue\u001b[0m\u001b[1;33m\u001b[0m\u001b[1;33m\u001b[0m\u001b[0m\n\u001b[1;32m----> 5\u001b[1;33m     \u001b[1;32mraise\u001b[0m \u001b[0mOSError\u001b[0m\u001b[1;33m(\u001b[0m\u001b[1;34m\"The maxsize of the storage directory has been reached\"\u001b[0m\u001b[1;33m)\u001b[0m\u001b[1;33m\u001b[0m\u001b[1;33m\u001b[0m\u001b[0m\n\u001b[0m",
      "\u001b[1;31mOSError\u001b[0m: The maxsize of the storage directory has been reached"
     ]
    }
   ],
   "source": [
    "with s.get(url, params=params, stream=True, timeout=5000) as resp:\n",
    "    if resp.status_code != 200:\n",
    "        print(f\"error {resp.status_code}\")\n",
    "        print(resp.content)\n",
    "    for line in resp.iter_lines():\n",
    "        if line and has_free_space():\n",
    "            print(line.decode(\"utf-8\"))\n",
    "            handle_tweet(json.loads(line.decode(\"utf-8\")))\n",
    "        else:\n",
    "            print(\"waiting for new tweets\")"
   ]
  },
  {
   "cell_type": "code",
   "execution_count": null,
   "id": "30388265",
   "metadata": {},
   "outputs": [],
   "source": []
  }
 ],
 "metadata": {
  "kernelspec": {
   "display_name": "Python 3 (ipykernel)",
   "language": "python",
   "name": "python3"
  },
  "language_info": {
   "codemirror_mode": {
    "name": "ipython",
    "version": 3
   },
   "file_extension": ".py",
   "mimetype": "text/x-python",
   "name": "python",
   "nbconvert_exporter": "python",
   "pygments_lexer": "ipython3",
   "version": "3.9.5"
  }
 },
 "nbformat": 4,
 "nbformat_minor": 5
}
