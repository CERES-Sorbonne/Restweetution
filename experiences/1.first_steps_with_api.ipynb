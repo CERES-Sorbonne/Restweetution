{
 "cells": [
  {
   "cell_type": "markdown",
   "id": "0f6950eb",
   "metadata": {},
   "source": [
    "### Configuration\n",
    "\n",
    "First of all one needs to load the twitter credentials"
   ]
  }
 ],
 "metadata": {
  "kernelspec": {
   "display_name": "test_twitter_api",
   "language": "python",
   "name": "test_twitter_api"
  },
  "language_info": {
   "codemirror_mode": {
    "name": "ipython",
    "version": 3
   },
   "file_extension": ".py",
   "mimetype": "text/x-python",
   "name": "python",
   "nbconvert_exporter": "python",
   "pygments_lexer": "ipython3",
   "version": "3.9.6"
  }
 },
 "nbformat": 4,
 "nbformat_minor": 5
}
